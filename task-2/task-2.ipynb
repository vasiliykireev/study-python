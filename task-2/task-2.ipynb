{
 "cells": [
  {
   "cell_type": "markdown",
   "id": "cac9dd0e",
   "metadata": {},
   "source": [
    "# Задание 1\n",
    "\n",
    "Дана переменная, в которой хранится четырёхзначное число (год). Нужно написать программу, которая выведет, является этот год високосным или обычным.\n",
    "\n",
    "Пример работы программы:\n",
    "\n",
    "year = 2024\n",
    "Результат:\n",
    "Високосный год\n",
    "\n",
    "year = 2023\n",
    "Результат:\n",
    "Обычный год"
   ]
  },
  {
   "cell_type": "code",
   "execution_count": null,
   "id": "5d6027df",
   "metadata": {},
   "outputs": [
    {
     "name": "stdout",
     "output_type": "stream",
     "text": [
      "Високосный год\n"
     ]
    }
   ],
   "source": [
    "year = 1200 # Переменная года\n",
    "leap = None # Високосность года\n",
    "\n",
    "# Если год високосный — leap = True, иначе leap = False\n",
    "if year%400 == 0:\n",
    "    leap = True\n",
    "elif year%100 == 0:\n",
    "    leap = False\n",
    "elif year%4 == 0:\n",
    "    leap = True\n",
    "else:\n",
    "    leap = False\n",
    "\n",
    "if leap == True:\n",
    "    print(\"Високосный год\")\n",
    "elif leap == False:\n",
    "    print(\"Обычный год\")"
   ]
  }
 ],
 "metadata": {
  "kernelspec": {
   "display_name": "Python 3",
   "language": "python",
   "name": "python3"
  },
  "language_info": {
   "codemirror_mode": {
    "name": "ipython",
    "version": 3
   },
   "file_extension": ".py",
   "mimetype": "text/x-python",
   "name": "python",
   "nbconvert_exporter": "python",
   "pygments_lexer": "ipython3",
   "version": "3.13.7"
  }
 },
 "nbformat": 4,
 "nbformat_minor": 5
}
