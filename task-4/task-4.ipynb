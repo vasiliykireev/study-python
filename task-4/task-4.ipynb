{
 "cells": [
  {
   "cell_type": "markdown",
   "id": "2a3e6cc7",
   "metadata": {},
   "source": [
    "# Задание\n",
    " \n",
    "Напишите код на Python в среде Jupyter Notebook или Google Colab для решения следующей задачи.\n",
    " \n",
    "Вам нужно помочь секретарю автоматизировать работу. Для этого нужно написать программу, которая будет на основе хранимых данных выполнять пользовательские команды.\n",
    "\n",
    "Исходные данные имеют следующую структуру.\n",
    "\n",
    "1. Перечень всех документов\n",
    "\n",
    "```documents = [\n",
    " {'type': 'passport', 'number': '2207 876234', 'name': 'Василий Гупкин'},\n",
    " {'type': 'invoice', 'number': '11-2', 'name': 'Геннадий Покемонов'},\n",
    " {'type': 'insurance', 'number': '10006', 'name': 'Аристарх Павлов'}\n",
    "]```\n",
    "2. Перечень полок, на которых хранятся документы, если документ есть в documents, он обязательно должен быть и в directories\n",
    "\n",
    "```directories = {\n",
    " '1': ['2207 876234', '11-2'],\n",
    " '2': ['10006'],\n",
    " '3': []\n",
    "}```\n",
    "\n",
    "Общие требования к программе:\n",
    "\n",
    "код должен быть грамотно декомпозирован: каждая функция отвечает за свою конкретную задачу, дублирующиеся функции переиспользуются, а их код не повторяется;\n",
    "в коде отсутствуют глобальные переменные, за исключением documents и directories;\n",
    "пользовательский ввод обрабатывается в цикле while до тех пор, пока пользователь явно не завершит программу вводом команды «q»."
   ]
  },
  {
   "cell_type": "markdown",
   "id": "442d2d84",
   "metadata": {},
   "source": [
    "# Задание 1\n",
    "\n",
    "Пользователь по команде «p» может узнать владельца документа по его номеру.\n",
    " \n",
    "Пример работы программы:\n",
    "Введите команду:\n",
    "p\n",
    "\n",
    "Введите номер документа:\n",
    "10006\n",
    "\n",
    "Результат:\n",
    "Владелец документа: Аристарх Павлов"
   ]
  },
  {
   "cell_type": "markdown",
   "id": "dc93fadb",
   "metadata": {},
   "source": [
    "# Задание 2 (необязательное)\n",
    "\n",
    "Секретарь по команде «s» может по номеру документа узнать, на какой полке документ хранится.\n",
    " \n",
    "Пример работы программы:\n",
    " \n",
    "Введите команду:\n",
    "s\n",
    "\n",
    "Введите номер документа:\n",
    "10006\n",
    "\n",
    "Результат:\n",
    "Документ хранится на полке: 2"
   ]
  },
  {
   "cell_type": "code",
   "execution_count": 16,
   "id": "b64bd336",
   "metadata": {},
   "outputs": [
    {
     "name": "stdout",
     "output_type": "stream",
     "text": [
      "Владелец документа не: Василий Гупкин\n",
      "Владелец документа не: Геннадий Покемонов\n",
      "Владелец документа: Аристарх Павлов\n"
     ]
    }
   ],
   "source": [
    "documents = [\n",
    " {'type': 'passport', 'number': '2207 876234', 'name': 'Василий Гупкин'},\n",
    " {'type': 'invoiceapos', 'number': '11-2', 'name': 'Геннадий Покемонов'},\n",
    " {'type': 'insurance', 'number': '10006', 'name': 'Аристарх Павлов'}\n",
    "]\n",
    "\n",
    "directories = {\n",
    " '1': ['2207 876234', '11-2'],\n",
    " '2': ['10006'],\n",
    " '3': []\n",
    "}\n",
    "\n",
    "def input_command(input_caption = 'Введите команду: p — найти владельца документа, s — найти полку по номеру документа, q — выход из программы: '):\n",
    "    type = input(input_caption)\n",
    "    if type == 'p':\n",
    "        doc_number = input('Введите номер документа:')\n",
    "        output = find_doc(doc_number, documents)\n",
    "    elif type == 's':\n",
    "        doc_number = input('Введите номер документа: ')\n",
    "        output = find_shelf(doc_number, directories)\n",
    "    elif type == 'q':\n",
    "        output = \"Выход из программы.\"\n",
    "    else:\n",
    "        output = \"Неизвестная команда.\"\n",
    "    print(output)\n",
    "\n",
    "def find_doc(doc_number, places):\n",
    "    for document in places:\n",
    "        if document['number'] == doc_number:\n",
    "            return f\"Владелец документа: {document['name']}\"\n",
    "        else:\n",
    "            print(f\"Владелец документа не: {document['name']}\")\n",
    "        output = continue_input()\n",
    "    else:\n",
    "        return \"Документ не найден в базе.\"\n",
    "    \n",
    "def find_shelf(doc_number, places):\n",
    "        for shelf, docs in places.items():\n",
    "            if doc_number in docs:\n",
    "                return f\"Документ находится на полке: {shelf}\"\n",
    "            else:\n",
    "                print(f\"Документ не на полке: {shelf}\")\n",
    "            output = continue_input()\n",
    "        else:\n",
    "            return \"Документ не найден на полках.\"\n",
    "\n",
    "\n",
    "def continue_input():\n",
    "    next = input('Хотите продолжить? Ввод — да, q — нет: ')\n",
    "    if next.lower() == 'q':\n",
    "        return \"Выход из программы.\"\n",
    "\n",
    "input_command()\n"
   ]
  }
 ],
 "metadata": {
  "kernelspec": {
   "display_name": "Python 3",
   "language": "python",
   "name": "python3"
  },
  "language_info": {
   "codemirror_mode": {
    "name": "ipython",
    "version": 3
   },
   "file_extension": ".py",
   "mimetype": "text/x-python",
   "name": "python",
   "nbconvert_exporter": "python",
   "pygments_lexer": "ipython3",
   "version": "3.13.7"
  }
 },
 "nbformat": 4,
 "nbformat_minor": 5
}
