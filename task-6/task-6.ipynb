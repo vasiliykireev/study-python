{
 "cells": [
  {
   "cell_type": "markdown",
   "id": "2a0d51dd",
   "metadata": {},
   "source": [
    "# Задание 1\n",
    "Загрузите из CSV-файла исходные данные о покупателях с веб-портала (до 15 строк). Проанализируйте возраст:\n",
    "\n",
    "если больше 25 лет, то выводить «Старше 25»;\n",
    "если меньше или равно, то выводить «Младше или равен 25».\n",
    " \n",
    "Сделать через применение функции .apply pandas, изменить данные столбца DataFrame по условию."
   ]
  },
  {
   "cell_type": "code",
   "execution_count": null,
   "id": "51d95d7d",
   "metadata": {},
   "outputs": [
    {
     "name": "stdout",
     "output_type": "stream",
     "text": [
      "                                                 name device_type  \\\n",
      "0                       Allen  Miss. Elisabeth Walton      mobile   \n",
      "1                      Allison  Master. Hudson Trevor      tablet   \n",
      "2                        Allison  Miss. Helen Loraine      laptop   \n",
      "3                Allison  Mr. Hudson Joshua Creighton     desktop   \n",
      "4     Allison  Mrs. Hudson J C (Bessie Waldo Daniels)      laptop   \n",
      "5                                 Anderson  Mr. Harry      mobile   \n",
      "6                   Andrews  Miss. Kornelia Theodosia      mobile   \n",
      "7                              Andrews  Mr. Thomas Jr      tablet   \n",
      "8       Appleton  Mrs. Edward Dale (Charlotte Lamson)     desktop   \n",
      "9                             Artagaveytia  Mr. Ramon      mobile   \n",
      "10                             Astor  Col. John Jacob     desktop   \n",
      "11  Astor  Mrs. John Jacob (Madeleine Talmadge Force)      laptop   \n",
      "12                      Aubart  Mme. Leontine Pauline      tablet   \n",
      "13                       Barber  Miss. Ellen \"Nellie\"      mobile   \n",
      "14               Barkworth  Mr. Algernon Henry Wilson      laptop   \n",
      "15                                Baumann  Mr. John D      tablet   \n",
      "\n",
      "              browser     sex  age  bill                           region  \\\n",
      "0              Chrome  female   29   885                     St Louis: MO   \n",
      "1               Opera    male   48   850  Montreal: PQ / Chesterville: ON   \n",
      "2             Firefox  female   48  1034  Montreal: PQ / Chesterville: ON   \n",
      "3   Internet Explorer    male   30   214  Montreal: PQ / Chesterville: ON   \n",
      "4             Firefox  female   25   993  Montreal: PQ / Chesterville: ON   \n",
      "5             Firefox    male   48   371                     New York: NY   \n",
      "6              Chrome  female   63  1126                       Hudson: NY   \n",
      "7   Internet Explorer    male   39   867                      Belfast: NI   \n",
      "8              Chrome  female   53   552              Bayside: Queens: NY   \n",
      "9             Firefox    male   71   926              Montevideo: Uruguay   \n",
      "10             Chrome    male   47   100                     New York: NY   \n",
      "11              Opera  female   48   254                     New York: NY   \n",
      "12            Firefox  female   24   587                    Paris: France   \n",
      "13            Firefox  female   26  1009                                -   \n",
      "14             Chrome    male   80   723                    Hessle: Yorks   \n",
      "15              Opera    male   48   185                     New York: NY   \n",
      "\n",
      "                analize  \n",
      "0             Старше 25  \n",
      "1             Старше 25  \n",
      "2             Старше 25  \n",
      "3             Старше 25  \n",
      "4   Младше или равен 25  \n",
      "5             Старше 25  \n",
      "6             Старше 25  \n",
      "7             Старше 25  \n",
      "8             Старше 25  \n",
      "9             Старше 25  \n",
      "10            Старше 25  \n",
      "11            Старше 25  \n",
      "12  Младше или равен 25  \n",
      "13            Старше 25  \n",
      "14            Старше 25  \n",
      "15            Старше 25  \n"
     ]
    }
   ],
   "source": [
    "import pandas as pd\n",
    "\n",
    "clients = pd.read_csv('web_clients_correct.csv', nrows=16)\n",
    "\n",
    "clients['analize'] = clients['age'].apply(lambda age: \"Старше 25\" if age > 25 else \"Младше или равен 25\")\n",
    "\n",
    "print(clients)\n",
    "\n"
   ]
  }
 ],
 "metadata": {
  "kernelspec": {
   "display_name": "Python 3",
   "language": "python",
   "name": "python3"
  },
  "language_info": {
   "codemirror_mode": {
    "name": "ipython",
    "version": 3
   },
   "file_extension": ".py",
   "mimetype": "text/x-python",
   "name": "python",
   "nbconvert_exporter": "python",
   "pygments_lexer": "ipython3",
   "version": "3.13.7"
  }
 },
 "nbformat": 4,
 "nbformat_minor": 5
}
