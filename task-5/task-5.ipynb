{
 "cells": [
  {
   "cell_type": "markdown",
   "id": "630853cc",
   "metadata": {},
   "source": [
    "# Задание\n",
    "Для каждого user_id в файле visit_log.csv определите третий столбец с категорией покупки. Используйте для работы файл purchase_log.txt.\n",
    "Если покупка была, сам файл visit_log.csv изменять не надо.\n",
    "Запишите в файл funnel.csv визиты из файла visit_log.csv, в которых были покупки с указанием категории.\n",
    " \n",
    "Учтите условие для данных:\n",
    "\n",
    "содержимое visit_log.csv — не помещается в оперативную память компьютера, используйте только построчную обработку этого файла.\n",
    " \n",
    "Примеры работы программы при выводе первых трёх строк файла funnel.csv:\n",
    "user_id,source,category\n",
    "1840e0b9d4,other,Продукты\n",
    "4e4f90fcfb,context,Электроника"
   ]
  },
  {
   "cell_type": "code",
   "execution_count": null,
   "id": "7ebe44c0",
   "metadata": {},
   "outputs": [],
   "source": [
    "import csv\n",
    "\n",
    "def find_purchase(visit_log, purchase_log, funnel):\n",
    "    file = open(funnel, 'w')\n",
    "    file.close()\n",
    "\n",
    "    with open(visit_log, 'r', newline='') as visits:\n",
    "        for visit in visits:\n",
    "            list = [item.strip() for item in visit.split(',')]\n",
    "            purchase = get_purchase(purchase_log, list[0])\n",
    "            if purchase != None:\n",
    "                items = [list[0], list[1], purchase]\n",
    "                write_funnel(funnel, items)\n",
    "\n",
    "def get_purchase(file, user_id):\n",
    "    with open(file, 'r') as purchases:\n",
    "        for purchase in purchases:\n",
    "            purchase = eval(purchase)\n",
    "            if user_id in purchase['user_id']:\n",
    "                return purchase['category']\n",
    "\n",
    "def write_funnel(file, items):\n",
    "    with open(file, 'a', newline='') as line:\n",
    "        csv.writer(line).writerow(items)\n",
    "\n",
    "find_purchase('visit_log.csv', 'purchase_log.txt', 'funnel.csv')"
   ]
  }
 ],
 "metadata": {
  "kernelspec": {
   "display_name": "Python 3",
   "language": "python",
   "name": "python3"
  },
  "language_info": {
   "codemirror_mode": {
    "name": "ipython",
    "version": 3
   },
   "file_extension": ".py",
   "mimetype": "text/x-python",
   "name": "python",
   "nbconvert_exporter": "python",
   "pygments_lexer": "ipython3",
   "version": "3.13.7"
  }
 },
 "nbformat": 4,
 "nbformat_minor": 5
}
