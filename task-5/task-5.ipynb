{
 "cells": [
  {
   "cell_type": "markdown",
   "id": "630853cc",
   "metadata": {},
   "source": [
    "# Задание\n",
    "Для каждого user_id в файле visit_log.csv определите третий столбец с категорией покупки. Используйте для работы файл purchase_log.txt.\n",
    "Если покупка была, сам файл visit_log.csv изменять не надо.\n",
    "Запишите в файл funnel.csv визиты из файла visit_log.csv, в которых были покупки с указанием категории.\n",
    " \n",
    "Учтите условие для данных:\n",
    "\n",
    "содержимое visit_log.csv — не помещается в оперативную память компьютера, используйте только построчную обработку этого файла.\n",
    " \n",
    "Примеры работы программы при выводе первых трёх строк файла funnel.csv:\n",
    "user_id,source,category\n",
    "1840e0b9d4,other,Продукты\n",
    "4e4f90fcfb,context,Электроника"
   ]
  },
  {
   "cell_type": "code",
   "execution_count": 48,
   "id": "7ebe44c0",
   "metadata": {},
   "outputs": [
    {
     "name": "stdout",
     "output_type": "stream",
     "text": [
      "Список:  ['user_id', 'source']\n",
      "category\n",
      "Список:  ['1840e0b9d4', 'other']\n",
      "Продукты\n",
      "Список:  ['4e4f90fcfb', 'context']\n",
      "Электроника\n",
      "Список:  ['afea8d72fc', 'other']\n",
      "Электроника\n"
     ]
    },
    {
     "ename": "KeyboardInterrupt",
     "evalue": "",
     "output_type": "error",
     "traceback": [
      "\u001b[31m---------------------------------------------------------------------------\u001b[39m",
      "\u001b[31mKeyboardInterrupt\u001b[39m                         Traceback (most recent call last)",
      "\u001b[36mCell\u001b[39m\u001b[36m \u001b[39m\u001b[32mIn[48]\u001b[39m\u001b[32m, line 12\u001b[39m\n\u001b[32m     10\u001b[39m \u001b[38;5;28;01mwith\u001b[39;00m \u001b[38;5;28mopen\u001b[39m(\u001b[33m'\u001b[39m\u001b[33mpurchase_log.txt\u001b[39m\u001b[33m'\u001b[39m, \u001b[33m'\u001b[39m\u001b[33mr\u001b[39m\u001b[33m'\u001b[39m) \u001b[38;5;28;01mas\u001b[39;00m purchases:\n\u001b[32m     11\u001b[39m     \u001b[38;5;28;01mfor\u001b[39;00m purchase \u001b[38;5;129;01min\u001b[39;00m purchases:\n\u001b[32m---> \u001b[39m\u001b[32m12\u001b[39m         purchase = \u001b[38;5;28;43meval\u001b[39;49m\u001b[43m(\u001b[49m\u001b[43mpurchase\u001b[49m\u001b[43m)\u001b[49m\n\u001b[32m     13\u001b[39m         \u001b[38;5;66;03m#print(purchase['user_id'])\u001b[39;00m\n\u001b[32m     14\u001b[39m         \u001b[38;5;28;01mif\u001b[39;00m \u001b[38;5;28mlist\u001b[39m[\u001b[32m0\u001b[39m] \u001b[38;5;129;01min\u001b[39;00m purchase[\u001b[33m'\u001b[39m\u001b[33muser_id\u001b[39m\u001b[33m'\u001b[39m]:\n",
      "\u001b[36mFile \u001b[39m\u001b[32m<string>:0\u001b[39m\n",
      "\u001b[31mKeyboardInterrupt\u001b[39m: "
     ]
    }
   ],
   "source": [
    "import csv\n",
    "import mmap\n",
    "\n",
    "with open('visit_log.csv', 'r') as visits:\n",
    "    for visit in visits:\n",
    "        # print(line.strip(), type(line))\n",
    "        list = [item.strip() for item in visit.split(',')]\n",
    "        # print('user_id: ', line[0])\n",
    "        # print('source: ', line[1])\n",
    "        with open('purchase_log.txt', 'r') as purchases:\n",
    "            for purchase in purchases:\n",
    "                purchase = eval(purchase)\n",
    "                #print(purchase['user_id'])\n",
    "                if list[0] in purchase['user_id']:\n",
    "                    print('Список: ', list)\n",
    "                    print(purchase['category'])"
   ]
  }
 ],
 "metadata": {
  "kernelspec": {
   "display_name": "Python 3",
   "language": "python",
   "name": "python3"
  },
  "language_info": {
   "codemirror_mode": {
    "name": "ipython",
    "version": 3
   },
   "file_extension": ".py",
   "mimetype": "text/x-python",
   "name": "python",
   "nbconvert_exporter": "python",
   "pygments_lexer": "ipython3",
   "version": "3.13.7"
  }
 },
 "nbformat": 4,
 "nbformat_minor": 5
}
