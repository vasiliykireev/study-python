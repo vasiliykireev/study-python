{
 "cells": [
  {
   "cell_type": "markdown",
   "id": "630853cc",
   "metadata": {},
   "source": [
    "# Задание\n",
    "Для каждого user_id в файле visit_log.csv определите третий столбец с категорией покупки. Используйте для работы файл purchase_log.txt.\n",
    "Если покупка была, сам файл visit_log.csv изменять не надо.\n",
    "Запишите в файл funnel.csv визиты из файла visit_log.csv, в которых были покупки с указанием категории.\n",
    " \n",
    "Учтите условие для данных:\n",
    "\n",
    "содержимое visit_log.csv — не помещается в оперативную память компьютера, используйте только построчную обработку этого файла.\n",
    " \n",
    "Примеры работы программы при выводе первых трёх строк файла funnel.csv:\n",
    "user_id,source,category\n",
    "1840e0b9d4,other,Продукты\n",
    "4e4f90fcfb,context,Электроника"
   ]
  },
  {
   "cell_type": "code",
   "execution_count": 56,
   "id": "7ebe44c0",
   "metadata": {},
   "outputs": [
    {
     "ename": "KeyboardInterrupt",
     "evalue": "",
     "output_type": "error",
     "traceback": [
      "\u001b[31m---------------------------------------------------------------------------\u001b[39m",
      "\u001b[31mKeyboardInterrupt\u001b[39m                         Traceback (most recent call last)",
      "\u001b[36mCell\u001b[39m\u001b[36m \u001b[39m\u001b[32mIn[56]\u001b[39m\u001b[32m, line 26\u001b[39m\n\u001b[32m     23\u001b[39m     \u001b[38;5;28;01mwith\u001b[39;00m \u001b[38;5;28mopen\u001b[39m(file, \u001b[33m'\u001b[39m\u001b[33ma\u001b[39m\u001b[33m'\u001b[39m, newline=\u001b[33m'\u001b[39m\u001b[33m'\u001b[39m) \u001b[38;5;28;01mas\u001b[39;00m line:\n\u001b[32m     24\u001b[39m         csv.writer(line).writerow(items)\n\u001b[32m---> \u001b[39m\u001b[32m26\u001b[39m \u001b[43mfind_purchase\u001b[49m\u001b[43m(\u001b[49m\u001b[33;43m'\u001b[39;49m\u001b[33;43mvisit_log.csv\u001b[39;49m\u001b[33;43m'\u001b[39;49m\u001b[43m,\u001b[49m\u001b[43m \u001b[49m\u001b[33;43m'\u001b[39;49m\u001b[33;43mpurchase_log.txt\u001b[39;49m\u001b[33;43m'\u001b[39;49m\u001b[43m,\u001b[49m\u001b[43m \u001b[49m\u001b[33;43m'\u001b[39;49m\u001b[33;43mfunnel.csv\u001b[39;49m\u001b[33;43m'\u001b[39;49m\u001b[43m)\u001b[49m\n",
      "\u001b[36mCell\u001b[39m\u001b[36m \u001b[39m\u001b[32mIn[56]\u001b[39m\u001b[32m, line 9\u001b[39m, in \u001b[36mfind_purchase\u001b[39m\u001b[34m(visit_log, purchase_log, funnel)\u001b[39m\n\u001b[32m      7\u001b[39m \u001b[38;5;28;01mfor\u001b[39;00m visit \u001b[38;5;129;01min\u001b[39;00m visits:\n\u001b[32m      8\u001b[39m     \u001b[38;5;28mlist\u001b[39m = [item.strip() \u001b[38;5;28;01mfor\u001b[39;00m item \u001b[38;5;129;01min\u001b[39;00m visit.split(\u001b[33m'\u001b[39m\u001b[33m,\u001b[39m\u001b[33m'\u001b[39m)]\n\u001b[32m----> \u001b[39m\u001b[32m9\u001b[39m     purchase = \u001b[43mget_purchase\u001b[49m\u001b[43m(\u001b[49m\u001b[43mpurchase_log\u001b[49m\u001b[43m,\u001b[49m\u001b[43m \u001b[49m\u001b[38;5;28;43mlist\u001b[39;49m\u001b[43m[\u001b[49m\u001b[32;43m0\u001b[39;49m\u001b[43m]\u001b[49m\u001b[43m)\u001b[49m\n\u001b[32m     10\u001b[39m     \u001b[38;5;28mtype\u001b[39m(purchase)\n\u001b[32m     11\u001b[39m     \u001b[38;5;28;01mif\u001b[39;00m purchase != \u001b[38;5;28;01mNone\u001b[39;00m:\n",
      "\u001b[36mCell\u001b[39m\u001b[36m \u001b[39m\u001b[32mIn[56]\u001b[39m\u001b[32m, line 18\u001b[39m, in \u001b[36mget_purchase\u001b[39m\u001b[34m(file, user_id)\u001b[39m\n\u001b[32m     16\u001b[39m \u001b[38;5;28;01mwith\u001b[39;00m \u001b[38;5;28mopen\u001b[39m(file, \u001b[33m'\u001b[39m\u001b[33mr\u001b[39m\u001b[33m'\u001b[39m) \u001b[38;5;28;01mas\u001b[39;00m purchases:\n\u001b[32m     17\u001b[39m     \u001b[38;5;28;01mfor\u001b[39;00m purchase \u001b[38;5;129;01min\u001b[39;00m purchases:\n\u001b[32m---> \u001b[39m\u001b[32m18\u001b[39m         purchase = \u001b[38;5;28;43meval\u001b[39;49m\u001b[43m(\u001b[49m\u001b[43mpurchase\u001b[49m\u001b[43m)\u001b[49m\n\u001b[32m     19\u001b[39m         \u001b[38;5;28;01mif\u001b[39;00m user_id \u001b[38;5;129;01min\u001b[39;00m purchase[\u001b[33m'\u001b[39m\u001b[33muser_id\u001b[39m\u001b[33m'\u001b[39m]:\n\u001b[32m     20\u001b[39m             \u001b[38;5;28;01mreturn\u001b[39;00m purchase[\u001b[33m'\u001b[39m\u001b[33mcategory\u001b[39m\u001b[33m'\u001b[39m]\n",
      "\u001b[36mFile \u001b[39m\u001b[32m<string>:0\u001b[39m\n",
      "\u001b[31mKeyboardInterrupt\u001b[39m: "
     ]
    }
   ],
   "source": [
    "import csv\n",
    "\n",
    "def find_purchase(visit_log, purchase_log, funnel):\n",
    "    open(funnel, 'w')\n",
    "\n",
    "    with open(visit_log, 'r', newline='') as visits:\n",
    "        for visit in visits:\n",
    "            list = [item.strip() for item in visit.split(',')]\n",
    "            purchase = get_purchase(purchase_log, list[0])\n",
    "            type(purchase)\n",
    "            if purchase != None:\n",
    "                items = [list[0], list[1], get_purchase(purchase_log, list[0])]\n",
    "                write_funnel(funnel, items)\n",
    "\n",
    "def get_purchase(file, user_id):\n",
    "    with open(file, 'r') as purchases:\n",
    "        for purchase in purchases:\n",
    "            purchase = eval(purchase)\n",
    "            if user_id in purchase['user_id']:\n",
    "                return purchase['category']\n",
    "\n",
    "def write_funnel(file, items):\n",
    "    with open(file, 'a', newline='') as line:\n",
    "        csv.writer(line).writerow(items)\n",
    "\n",
    "find_purchase('visit_log.csv', 'purchase_log.txt', 'funnel.csv')"
   ]
  }
 ],
 "metadata": {
  "kernelspec": {
   "display_name": "Python 3",
   "language": "python",
   "name": "python3"
  },
  "language_info": {
   "codemirror_mode": {
    "name": "ipython",
    "version": 3
   },
   "file_extension": ".py",
   "mimetype": "text/x-python",
   "name": "python",
   "nbconvert_exporter": "python",
   "pygments_lexer": "ipython3",
   "version": "3.13.7"
  }
 },
 "nbformat": 4,
 "nbformat_minor": 5
}
