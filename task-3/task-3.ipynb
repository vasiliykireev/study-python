{
 "cells": [
  {
   "cell_type": "markdown",
   "id": "880f8239",
   "metadata": {},
   "source": [
    "# Задание 1\n",
    "\n",
    "Дана переменная, в которой хранится слово из латинских букв. Напишите код, который выводит на экран:\n",
    "\n",
    "среднюю букву, если число букв в слове нечётное;\n",
    "две средних буквы, если число букв чётное.\n",
    " \n",
    "Пример работы программы:\n",
    "word = 'test' Результат: es\n",
    "word = 'testing' Результат: t"
   ]
  },
  {
   "cell_type": "code",
   "execution_count": 27,
   "id": "ef3f6acf",
   "metadata": {},
   "outputs": [
    {
     "name": "stdout",
     "output_type": "stream",
     "text": [
      "t\n"
     ]
    }
   ],
   "source": [
    "word = 'testing'\n",
    "\n",
    "letters = list(word)\n",
    "counter = len(letters)\n",
    "position = int(counter/2)\n",
    "letter = letters[position]\n",
    "if counter%2 == 0:\n",
    "    position_even = position - 1\n",
    "    letter_even = letters[position_even]\n",
    "    print(letter_even + letter)\n",
    "else:\n",
    "    print(letter)\n"
   ]
  }
 ],
 "metadata": {
  "kernelspec": {
   "display_name": "Python 3",
   "language": "python",
   "name": "python3"
  },
  "language_info": {
   "codemirror_mode": {
    "name": "ipython",
    "version": 3
   },
   "file_extension": ".py",
   "mimetype": "text/x-python",
   "name": "python",
   "nbconvert_exporter": "python",
   "pygments_lexer": "ipython3",
   "version": "3.13.7"
  }
 },
 "nbformat": 4,
 "nbformat_minor": 5
}
