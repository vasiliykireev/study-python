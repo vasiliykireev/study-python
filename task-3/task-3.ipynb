{
 "cells": [
  {
   "cell_type": "markdown",
   "id": "880f8239",
   "metadata": {},
   "source": [
    "# Задание 1\n",
    "\n",
    "Дана переменная, в которой хранится слово из латинских букв. Напишите код, который выводит на экран:\n",
    "\n",
    "среднюю букву, если число букв в слове нечётное;\n",
    "две средних буквы, если число букв чётное.\n",
    " \n",
    "Пример работы программы:\n",
    "word = 'test' Результат: es\n",
    "word = 'testing' Результат: t"
   ]
  },
  {
   "cell_type": "code",
   "execution_count": 27,
   "id": "ef3f6acf",
   "metadata": {},
   "outputs": [
    {
     "name": "stdout",
     "output_type": "stream",
     "text": [
      "t\n"
     ]
    }
   ],
   "source": [
    "word = 'testing'\n",
    "\n",
    "letters = list(word)\n",
    "counter = len(letters)\n",
    "position = int(counter/2)\n",
    "letter = letters[position]\n",
    "if counter%2 == 0:\n",
    "    position_even = position - 1\n",
    "    letter_even = letters[position_even]\n",
    "    print(letter_even + letter)\n",
    "else:\n",
    "    print(letter)\n"
   ]
  },
  {
   "cell_type": "markdown",
   "id": "44d0b34d",
   "metadata": {},
   "source": [
    "# Задание 2. Выполнять не обязательно\n",
    " \n",
    "Напишите код на Python в среде Jupyter Notebook или Google Colab для решения следующей задачи.\n",
    " \n",
    "Вы делаете MVP (минимально жизнеспособный продукт) dating-сервиса. У вас есть список юношей и девушек.\n",
    "Выдвигаем гипотезу: лучшие рекомендации получатся, если просто отсортировать имена по алфавиту и познакомить людей с одинаковыми индексами после сортировки. Но вы не будете никого знакомить, если кто-то может остаться без пары.\n",
    " \n",
    "Примеры работы программы:\n",
    " \n",
    "boys = ['Peter', 'Alex', 'John', 'Arthur', 'Richard'] \n",
    "girls = ['Kate', 'Liza', 'Kira', 'Emma', 'Trisha'] \n",
    " \n",
    "Результат:\n",
    "Идеальные пары:\n",
    "Alex и Emma\n",
    "Arthur и Kate\n",
    "John и Kira\n",
    "Peter и Liza\n",
    "Richard и Trisha\n",
    " \n",
    "boys = ['Peter', 'Alex', 'John', 'Arthur', 'Richard', 'Michael'] \n",
    "girls = ['Kate', 'Liza', 'Kira', 'Emma', 'Trisha'] \n",
    " \n",
    "Результат: Внимание, кто-то может остаться без пары!"
   ]
  },
  {
   "cell_type": "code",
   "execution_count": null,
   "id": "8495c59f",
   "metadata": {},
   "outputs": [
    {
     "name": "stdout",
     "output_type": "stream",
     "text": [
      "Внимание, кто-то может остаться без пары!\n"
     ]
    }
   ],
   "source": [
    "boys = ['Peter', 'Alex', 'John', 'Arthur', 'Richard', 'Guy'] \n",
    "girls = ['Kate', 'Liza', 'Kira', 'Emma', 'Trisha']\n",
    "error = 'Внимание, кто-то может остаться без пары!'\n",
    "\n",
    "counter_boys = len(boys)\n",
    "counter_girls = len(girls)\n",
    "\n",
    "\n",
    "# Если мальчиков столько же, сколько и девочек, сортируем массивы и выводим результат\n",
    "# Иначе вывести ошибку\n",
    "if len(boys) == len(girls):\n",
    "    print('Идеальные пары:')\n",
    "    for i in range(len(boys)):\n",
    "        print(boys[i] + ' и ' + girls[i])\n",
    "else:\n",
    "    print(error)"
   ]
  }
 ],
 "metadata": {
  "kernelspec": {
   "display_name": "Python 3",
   "language": "python",
   "name": "python3"
  },
  "language_info": {
   "codemirror_mode": {
    "name": "ipython",
    "version": 3
   },
   "file_extension": ".py",
   "mimetype": "text/x-python",
   "name": "python",
   "nbconvert_exporter": "python",
   "pygments_lexer": "ipython3",
   "version": "3.13.7"
  }
 },
 "nbformat": 4,
 "nbformat_minor": 5
}
